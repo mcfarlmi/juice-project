{
  "nbformat": 4,
  "nbformat_minor": 0,
  "metadata": {
    "kernelspec": {
      "display_name": "Python 3",
      "language": "python",
      "name": "python3"
    },
    "language_info": {
      "codemirror_mode": {
        "name": "ipython",
        "version": 3
      },
      "file_extension": ".py",
      "mimetype": "text/x-python",
      "name": "python",
      "nbconvert_exporter": "python",
      "pygments_lexer": "ipython3",
      "version": "3.7.1"
    },
    "colab": {
      "provenance": []
    }
  },
  "cells": [
    {
      "cell_type": "markdown",
      "metadata": {
        "id": "idkvYWLp3tT9"
      },
      "source": [
        "<h1>Juice Problem Project  *Link to Report at Bottom of the code*</h1>\n",
        "\n",
        "In this notebook we use <code>pulp</code> to solve the Juice problem from the text."
      ]
    },
    {
      "cell_type": "code",
      "metadata": {
        "id": "wPKchqKi3tT-",
        "outputId": "ae0745f7-9bd2-403a-a164-cea5515d0636",
        "colab": {
          "base_uri": "https://localhost:8080/",
          "height": 202
        }
      },
      "source": [
        "!pip install pulp\n",
        "import itertools\n",
        "import numpy as np\n",
        "import pulp"
      ],
      "execution_count": null,
      "outputs": [
        {
          "output_type": "stream",
          "text": [
            "Collecting pulp\n",
            "\u001b[?25l  Downloading https://files.pythonhosted.org/packages/2d/33/3ae6d9d2ac8c7068937af6372fd8828ac605e62a8b17106fe57110930d38/PuLP-1.6.10.zip (13.6MB)\n",
            "\u001b[K     |████████████████████████████████| 13.6MB 154kB/s \n",
            "\u001b[?25hRequirement already satisfied: pyparsing>=2.0.1 in /usr/local/lib/python3.6/dist-packages (from pulp) (2.4.2)\n",
            "Building wheels for collected packages: pulp\n",
            "  Building wheel for pulp (setup.py) ... \u001b[?25l\u001b[?25hdone\n",
            "  Created wheel for pulp: filename=PuLP-1.6.10-cp36-none-any.whl size=12269903 sha256=99cc829275deb14a645bfa54f0a5dc1751b144f4d54afbd24b5d65ad7604a530\n",
            "  Stored in directory: /root/.cache/pip/wheels/5e/76/77/e28b22219e46e3b4b033f02e8b36b2770ae545bdcf60c2b224\n",
            "Successfully built pulp\n",
            "Installing collected packages: pulp\n",
            "Successfully installed pulp-1.6.10\n"
          ],
          "name": "stdout"
        }
      ]
    },
    {
      "cell_type": "code",
      "metadata": {
        "id": "vvFMfLhZ3tUC",
        "outputId": "ed4c7a34-4fcc-4fcd-f796-50b43e2a8e06",
        "colab": {
          "base_uri": "https://localhost:8080/",
          "height": 84
        }
      },
      "source": [
        "#Cost to transport juice\n",
        "CostT= [65,65,65,65,65,65,65,65,65,65,65,65]\n",
        "\n",
        "#Cost to manufacture 1 ton of each product\n",
        "CostM= np.array([\n",
        "    [150,150],\n",
        "    [175,175]\n",
        "])\n",
        "\n",
        "#Cost of storage at each plant per season a.k.a. per year\n",
        "CostS= [500,500]\n",
        "\n",
        "print(CostT)\n",
        "print(CostM)\n",
        "print(CostS)"
      ],
      "execution_count": null,
      "outputs": [
        {
          "output_type": "stream",
          "text": [
            "[65, 65, 65, 65, 65, 65, 65, 65, 65, 65, 65, 65]\n",
            "[[150 150]\n",
            " [175 175]]\n",
            "[500, 500]\n"
          ],
          "name": "stdout"
        }
      ]
    },
    {
      "cell_type": "markdown",
      "metadata": {
        "id": "gzJ3_S6W3tUH"
      },
      "source": [
        "We first create LpProblem in pulp."
      ]
    },
    {
      "cell_type": "code",
      "metadata": {
        "id": "td9LCGtq3tUI"
      },
      "source": [
        "JuiceLP = pulp.LpProblem(\"Juice Problem\",pulp.LpMinimize)"
      ],
      "execution_count": null,
      "outputs": []
    },
    {
      "cell_type": "markdown",
      "metadata": {
        "id": "_bOkeCVU3tUL"
      },
      "source": [
        "We next create the decision variables.  These come in Four types: $TS_{i,j,k}$ is the amount of product shipped $j$ from Plant $k$ to stores during month $i$. while $TS_{i,k,m}$ is the amount of juice transffered into plant $k$ from plant $m$ in month $i$. Also we have $TO_{i,k,m}$ is the amount of juice transffered out of plant $k$ and into plant $m$ in month $i$. Finally $EI_{i,k}$ which is the amount of grape juice at plant $k$ at the end of the month $i$.\n",
        "\n",
        "---\n",
        "\n"
      ]
    },
    {
      "cell_type": "markdown",
      "metadata": {
        "id": "iX1FcP444n1D"
      },
      "source": []
    },
    {
      "cell_type": "code",
      "metadata": {
        "id": "UtrQ-kY53tUN",
        "outputId": "6af95960-b3b8-4837-cee7-801b76d6db33",
        "colab": {
          "base_uri": "https://localhost:8080/",
          "height": 87
        }
      },
      "source": [
        "Plants = range(2)\n",
        "Months = range(12)\n",
        "Products = range(2)\n",
        "Season = range (1)\n",
        "AllowedPairs = list(itertools.product(Plants,Plants))\n",
        "AllowedPairs.remove((0,0))\n",
        "AllowedPairs.remove((1,1))\n",
        "print(AllowedPairs)\n",
        "\n",
        "TS = pulp.LpVariable.dicts(\"TS\",(Months,Products,Plants),0,None,pulp.LpContinuous)\n",
        "TI = pulp.LpVariable.dicts(\"TI\",(Months, Plants),0,None,pulp.LpContinuous)\n",
        "TO = pulp.LpVariable.dicts(\"TO\",(Months,Plants),0,None,pulp.LpContinuous)\n",
        "EI = pulp.LpVariable.dicts(\"EI\",(Months,Plants),0,None,pulp.LpContinuous)\n",
        "\n",
        "#Amount delivered to plant 0 at the beginning of each month\n",
        "P1= [15*(1+np.sin(np.pi/6*(i+1))) for i in range(12)]\n",
        "\n",
        "#Amount delivered to plant 0 at the beginning of each month\n",
        "P2= [50*(1+np.sin(np.pi/6*(i+1))) for i in range(12)]\n",
        "\n",
        "print(P1)\n",
        "print(P2)\n",
        "\n",
        "#Amount of juice required to create 1 ton of juice of jam at each plant\n",
        "Production= np.array([[3,2],\n",
        "                      [4,2]])\n",
        "\n",
        "#Max combined production for the year\n",
        "MaxCombined=[150,150]\n",
        "\n",
        "#Max amount of product allowed to be shipped per month\n",
        "MaxShipment=[50,50]\n",
        "\n",
        "#Amount of product required to be produced by the plants each month\n",
        "Demand=[10,15]\n",
        "\n",
        "#Amount of juice required at the end of each year in each plant.\n",
        "RequiredJuice=[70,70]\n",
        "\n",
        "#P1=[23,28,30,28,23,15,8,2,0,2,8,15]\n",
        "#P2=[75,93,100,93,75,50,25,7,0,7,25,50]"
      ],
      "execution_count": null,
      "outputs": [
        {
          "output_type": "stream",
          "text": [
            "[(0, 1), (1, 0)]\n",
            "[22.5, 27.99038105676658, 30.0, 27.990381056766584, 22.500000000000007, 15.000000000000004, 7.5000000000000036, 2.0096189432334244, 0.0, 2.0096189432334146, 7.499999999999993, 14.999999999999996]\n",
            "[75.0, 93.30127018922192, 100.0, 93.30127018922194, 75.00000000000003, 50.000000000000014, 25.00000000000001, 6.698729810778081, 0.0, 6.6987298107780475, 24.99999999999998, 49.999999999999986]\n"
          ],
          "name": "stdout"
        }
      ]
    },
    {
      "cell_type": "markdown",
      "metadata": {
        "id": "rrHqN33t3tUR"
      },
      "source": [
        "Now we add the objective function."
      ]
    },
    {
      "cell_type": "code",
      "metadata": {
        "id": "AuI8v9t93tUR"
      },
      "source": [
        "JuiceLP += sum( EI[11][k]*CostS[k]for k in Plants) + sum(TS[i][j][k]*CostM[j][k] for i in Months for k in Plants for j in Products) + sum(TI[i][k]*2*CostT[i] for i in Months for k in Plants) + sum(TO[i][k]*-1*CostT[i] for i in Months for k in Plants)"
      ],
      "execution_count": null,
      "outputs": []
    },
    {
      "cell_type": "code",
      "metadata": {
        "id": "G-qJlAip3tUX",
        "colab": {
          "base_uri": "https://localhost:8080/",
          "height": 128
        },
        "outputId": "7a7971e6-7846-47a1-eea5-05b5ec1b8158"
      },
      "source": [
        "\n",
        "#At the end of the season the Juice in storage in each plant should be 70 tons\n",
        "for k in Plants:\n",
        "  JuiceLP += (EI[11][k]) >= RequiredJuice[k]\n",
        "#The amount shipped from Plant 0 is equal to the amount recieved at Plant 1\n",
        "for i in Months:\n",
        "    JuiceLP+= (TO[i][0]) == (TI[i][1])\n",
        "#The amount shipped from Plant 1 is equal to the amount recieved at Plant 0\n",
        "for i in Months:\n",
        "    JuiceLP+= (TO[i][1]) == (TI[i][0])\n",
        "\n",
        "#The total monthly production should meet the demands\n",
        "for i in Months:\n",
        "  for j in Products:\n",
        "    JuiceLP+= sum(TS[i][j][k] for k in Plants)==Demand[j]\n",
        "\n",
        "\n",
        "#Limit on how much juice can be shipped between plants\n",
        "for i in Months:\n",
        "   for k in Plants:\n",
        "    JuiceLP+= (TI[i][k])<=MaxShipment[k]\n",
        "\n",
        "#Limit on how much jam and juice concentrate each plant can produce anually\n",
        "for k in Plants:\n",
        "  JuiceLP+= sum(TS[i][j][k] for i in Months for j in Products) <= MaxCombined[k]\n",
        "\n",
        "#This shows how much juice was being stored at the end of month 0 at plant 0\n",
        "JuiceLP+=EI[0][0]==70+TI[0][0]-TO[0][0]-sum(TS[0][j][0]*Production[0][j] for j in Products)+P1[0]\n",
        "\n",
        "#This shows how much juice was being stored at the end of month 0 at plant 1\n",
        "  JuiceLP+=EI[0][1]==70+TI[0][1]-TO[0][1]-sum(TS[0][j][1]*Production[1][j] for j in Products)+P2[0]\n"
      ],
      "execution_count": null,
      "outputs": [
        {
          "output_type": "error",
          "ename": "IndentationError",
          "evalue": "ignored",
          "traceback": [
            "\u001b[0;36m  File \u001b[0;32m\"<ipython-input-6-25c31ced3065>\"\u001b[0;36m, line \u001b[0;32m29\u001b[0m\n\u001b[0;31m    JuiceLP+=EI[0][1]==70+TI[0][1]-TO[0][1]-sum(TS[0][j][1]*Production[1][j] for j in Products)+P2[0]\u001b[0m\n\u001b[0m    ^\u001b[0m\n\u001b[0;31mIndentationError\u001b[0m\u001b[0;31m:\u001b[0m unexpected indent\n"
          ]
        }
      ]
    },
    {
      "cell_type": "code",
      "metadata": {
        "id": "BKwTQfUU75JV"
      },
      "source": [
        "#This shows how much juice was being stored at the end of months 1-11 at plant 1\n",
        "\n",
        "Months2 = [1,2,3,4,5,6,7,8,9,10,11]\n",
        "for i in Months2:\n",
        "  JuiceLP+=EI[i][1]==EI[i-1][1]+TI[i][1]-TO[i][1]-sum(TS[i][j][1]*Production[1][j] for j in Products)+P2[i]"
      ],
      "execution_count": null,
      "outputs": []
    },
    {
      "cell_type": "code",
      "metadata": {
        "id": "-0YkrMR32j_V"
      },
      "source": [
        "#This shows how much juice was being stored at the end of months 1-11 at plant 0\n",
        "\n",
        "for i in Months2:\n",
        "  JuiceLP+=EI[i][0]==EI[i-1][0]+TI[i][0]-TO[i][0]-sum(TS[i][j][0]*Production[0][j] for j in Products)+P1[i]\n",
        "  print(JuiceLP)"
      ],
      "execution_count": null,
      "outputs": []
    },
    {
      "cell_type": "markdown",
      "metadata": {
        "id": "bNHXdYyc3tUc"
      },
      "source": [
        "Our LP is complete and we are ready to solve."
      ]
    },
    {
      "cell_type": "code",
      "metadata": {
        "id": "T0WIZvtI3tUc"
      },
      "source": [
        "JuiceLP.solve()\n",
        "print(\"Status:\", pulp.LpStatus[JuiceLP.status])"
      ],
      "execution_count": null,
      "outputs": []
    },
    {
      "cell_type": "code",
      "metadata": {
        "id": "5HPr4_qpJ-dC"
      },
      "source": [
        "pulp.value(JuiceLP.objective)"
      ],
      "execution_count": null,
      "outputs": []
    },
    {
      "cell_type": "code",
      "metadata": {
        "id": "2COeXXey3tUh"
      },
      "source": [
        "for v in JuiceLP.variables():\n",
        "    print(v.name, \"=\", v.varValue)\n",
        "\n"
      ],
      "execution_count": null,
      "outputs": []
    },
    {
      "cell_type": "markdown",
      "metadata": {
        "id": "EAE_V2Z_3tUk"
      },
      "source": [
        "Finally we can print the solution as a pair of arrays."
      ]
    },
    {
      "cell_type": "code",
      "metadata": {
        "id": "T5Jm43Iv3tUk"
      },
      "source": [
        "print(\"Total cost is\", pulp.value(JuiceLP.objective))\n",
        "\n",
        "SolutionArray=np.array([[[TS[i][j][k].varValue for i in Months] for j in Products] for k in Plants])\n",
        "SolutionArray2=np.asarray([[TI[i][k].varValue for i in Months] for k in Plants])\n",
        "SolutionArray3=np.asarray([[TO[i][k].varValue for i in Months] for k in Plants])\n",
        "SolutionArray4=np.asarray([[EI[i][k].varValue for i in Months] for k in Plants])\n",
        "\n",
        "print(\"TS Array:\")\n",
        "print(SolutionArray)\n",
        "print(\"TI Array:\")\n",
        "print(SolutionArray2)\n",
        "print(\"TO Array:\")\n",
        "print(SolutionArray3)\n",
        "print(\"EI Array:\")\n",
        "print(SolutionArray4)"
      ],
      "execution_count": null,
      "outputs": []
    },
    {
      "cell_type": "markdown",
      "metadata": {
        "id": "tEkps17ax9Im"
      },
      "source": [
        "<h1>  *Link to Report*</h1>\n",
        "\n",
        "https://docs.google.com/document/d/1kfajfpNvkDv4ZxsTPJmlPru3pozDDTinVkMWDpFAVW0/edit"
      ]
    }
  ]
}